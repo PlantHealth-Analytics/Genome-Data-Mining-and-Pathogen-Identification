{
  "cells": [
    {
      "cell_type": "markdown",
      "id": "1973db47",
      "metadata": {
        "id": "1973db47"
      },
      "source": [
        "# Plant Pathogen Genome Mining\n",
        "Genome mining involves extracting valuable genomic information from databases such as NCBI to understand gene content, structure, and potential functions. For plant pathogens, genome mining aids in identifying genes related to virulence, resistance, and adaptation, facilitating research in plant pathology and crop protection. In this notebook, we explore methods to fetch and analyze genome data, focusing on plant pathogens.\n",
        "\n",
        "Steps Involved:\n",
        "Fetching genomes from NCBI using datasets\n",
        "Summarizing genomic data\n",
        "Utilizing Python and Unix commands for data analysis"
      ]
    },
    {
      "cell_type": "markdown",
      "id": "lspKXSFhzIUw",
      "metadata": {
        "id": "lspKXSFhzIUw"
      },
      "source": [
        "### **INSTALL BIOCONDA IN COLAB**\n",
        "To use certain bioinformatics tools, Bioconda can be installed in Google Colab. Here’s the link for setup: https://bioconda.github.io/"
      ]
    },
    {
      "cell_type": "code",
      "execution_count": null,
      "id": "VXb4Xq6Uy4nv",
      "metadata": {
        "collapsed": true,
        "id": "VXb4Xq6Uy4nv"
      },
      "outputs": [],
      "source": [
        "!wget https://repo.anaconda.com/miniconda/Miniconda3-latest-Linux-x86_64.sh\n",
        "!chmod +x Miniconda3-latest-Linux-x86_64.sh\n",
        "!bash ./Miniconda3-latest-Linux-x86_64.sh -b -f -p /usr/local\n",
        "import sys\n",
        "sys.path.append('/usr/local/lib/python3.7/site-packages/')"
      ]
    },
    {
      "cell_type": "markdown",
      "id": "fF8brXQGzdb0",
      "metadata": {
        "id": "fF8brXQGzdb0"
      },
      "source": [
        "### **INSTALL NCBI-DATASETS**\n",
        "NCBI-Datasets provides a command-line tool to download datasets directly from NCBI. You can install it via the following link: https://www.ncbi.nlm.nih.gov/datasets/"
      ]
    },
    {
      "cell_type": "code",
      "execution_count": null,
      "id": "UU3mopIZ3PpA",
      "metadata": {
        "id": "UU3mopIZ3PpA"
      },
      "outputs": [],
      "source": [
        "!conda install conda-forge::ncbi-datasets-cli -y\n",
        "#!conda install -c conda-forge ncbi-datasets-cli -y"
      ]
    },
    {
      "cell_type": "markdown",
      "id": "69fcab14",
      "metadata": {
        "id": "69fcab14"
      },
      "source": [
        "## Fetching Metadata of Genomes from NCBI Using Datasets\n",
        "The NCBI Datasets command-line tool allows you to easily fetch genome data. It's a powerful resource for retrieving data directly from NCBI's extensive database.\n"
      ]
    },
    {
      "cell_type": "markdown",
      "id": "09lPYBKpbwRl",
      "metadata": {
        "id": "09lPYBKpbwRl"
      },
      "source": [
        "**Summarizing Genome meta data with the NCBI Datasets Tool**\n",
        "\n",
        "Let's fetch metadata of virus genomes.\n",
        "The following command summarizes the available genome data for Tomato yellow leaf curl virus using the NCBI Datasets tool:"
      ]
    },
    {
      "cell_type": "code",
      "execution_count": null,
      "id": "5AlStbGBb-yv",
      "metadata": {
        "id": "5AlStbGBb-yv"
      },
      "outputs": [],
      "source": [
        "!datasets summary genome taxon \"tomato yellow leaf curl virus\" --as-json-lines"
      ]
    },
    {
      "cell_type": "markdown",
      "source": [
        "The output could be saved using the \">\" character in virus_metadata.jsonl"
      ],
      "metadata": {
        "id": "mDNUWE6mtDIr"
      },
      "id": "mDNUWE6mtDIr"
    },
    {
      "cell_type": "code",
      "execution_count": 4,
      "id": "1BddUhpocBCO",
      "metadata": {
        "id": "1BddUhpocBCO"
      },
      "outputs": [],
      "source": [
        "!datasets summary genome taxon \"tomato yellow leaf curl virus\" --as-json-lines > virus_metadata.jsonl"
      ]
    },
    {
      "cell_type": "markdown",
      "id": "RbTHDphhb0jZ",
      "metadata": {
        "id": "RbTHDphhb0jZ"
      },
      "source": [
        "Converting JSON to TSV Format\n",
        "JSON files are very handy, but sometimes not very user-friendly to read. Once you have the genome metadata saved in JSONL format, you can convert it to a more readable tab-separated values (TSV) format using the dataformat tool. This tool allows you to extract and display specific fields of interest from genomic metadata in an easy-to-read format like TSV."
      ]
    },
    {
      "cell_type": "code",
      "execution_count": null,
      "id": "X_zqcQii6S7t",
      "metadata": {
        "collapsed": true,
        "id": "X_zqcQii6S7t"
      },
      "outputs": [],
      "source": [
        "!dataformat tsv genome --fields accession,organism-name,annotinfo-name --inputfile virus_metadata.jsonl > virus_summary.tsv\n",
        "!cat virus_summary.tsv"
      ]
    },
    {
      "cell_type": "markdown",
      "id": "BDCTGoZvcL4r",
      "metadata": {
        "id": "BDCTGoZvcL4r"
      },
      "source": [
        "Let's now fetch the metadata for fungal genomes, using Fusarium oxysporum as an example.\n",
        "\n",
        "The datasets command retrieves genome metadata for all records that match \"Fusarium oxysporum\" in the GenBank database. The output is then piped to the next command. The dataformat command converts the JSON data to a tab-separated values (TSV) format and displays selected fields: accession, organism name, GC percentage, and geographic location of the biosample."
      ]
    },
    {
      "cell_type": "code",
      "execution_count": null,
      "id": "GKWhUso3cK_j",
      "metadata": {
        "id": "GKWhUso3cK_j"
      },
      "outputs": [],
      "source": [
        "!datasets summary genome taxon \"Fusarium oxysporum\" --assembly-source genbank --as-json-lines | dataformat tsv genome --fields accession,organism-name,assmstats-gc-percent,assminfo-biosample-geo-loc-name > fo_attributes.tsv\n",
        "!cat fo_attributes.tsv"
      ]
    },
    {
      "cell_type": "markdown",
      "id": "5DpMkFw_g111",
      "metadata": {
        "id": "5DpMkFw_g111"
      },
      "source": [
        "What other attributes (fields) can we select?"
      ]
    },
    {
      "cell_type": "code",
      "execution_count": null,
      "id": "Q2o_QZOZg0-C",
      "metadata": {
        "id": "Q2o_QZOZg0-C"
      },
      "outputs": [],
      "source": [
        "!dataformat tsv genome --help"
      ]
    },
    {
      "cell_type": "markdown",
      "id": "TEMf7iWMkOaV",
      "metadata": {
        "id": "TEMf7iWMkOaV"
      },
      "source": [
        "Use Unix commands to fetch specific information from our report, fo_attributes.tsv."
      ]
    },
    {
      "cell_type": "markdown",
      "source": [
        "The report fo_attributes.tsv has a header line, which we will skip using the Unix command tail -n +2. Then, we can display and count how many records we obtain."
      ],
      "metadata": {
        "id": "s2YlY9yIudLw"
      },
      "id": "s2YlY9yIudLw"
    },
    {
      "cell_type": "code",
      "execution_count": null,
      "id": "Z37_-K31e_K0",
      "metadata": {
        "id": "Z37_-K31e_K0"
      },
      "outputs": [],
      "source": [
        "!tail -n +2 fo_attributes.tsv | cat | wc -l"
      ]
    },
    {
      "cell_type": "markdown",
      "source": [
        "We can use the awk command to calculate the average GC content. By examining the table report, we see that the GC value for each genome is in the third column, $3."
      ],
      "metadata": {
        "id": "DyIccw7cuw7A"
      },
      "id": "DyIccw7cuw7A"
    },
    {
      "cell_type": "code",
      "execution_count": null,
      "id": "xjUKoElHdDIq",
      "metadata": {
        "id": "xjUKoElHdDIq"
      },
      "outputs": [],
      "source": [
        "!tail -n +2 fo_attributes.tsv | awk -F'\\t' '{sum += $3; count++} END {print \"Average GC Content: \", sum/(count-1)}'"
      ]
    },
    {
      "cell_type": "markdown",
      "source": [
        "In the report, the geographic location of the isolate is in the fourth column. We can use cut to display the location, then sort and count."
      ],
      "metadata": {
        "id": "eAdSG_mTvLEf"
      },
      "id": "eAdSG_mTvLEf"
    },
    {
      "cell_type": "code",
      "execution_count": null,
      "id": "pBGIol08dYno",
      "metadata": {
        "id": "pBGIol08dYno"
      },
      "outputs": [],
      "source": [
        "!tail -n +2 fo_attributes.tsv | cut -f 4 | sort | uniq -c"
      ]
    },
    {
      "cell_type": "markdown",
      "source": [
        "Let's count all the genomes reported from Australia"
      ],
      "metadata": {
        "id": "M5mqWT1PvbFe"
      },
      "id": "M5mqWT1PvbFe"
    },
    {
      "cell_type": "code",
      "execution_count": null,
      "id": "g5iFYF-BeV_E",
      "metadata": {
        "id": "g5iFYF-BeV_E"
      },
      "outputs": [],
      "source": [
        "!cut -f 4 fo_attributes.tsv | grep -c \"Australia\""
      ]
    },
    {
      "cell_type": "markdown",
      "source": [
        "Let's display the genomes reported from Australia."
      ],
      "metadata": {
        "id": "Sq6WS9xfvgt0"
      },
      "id": "Sq6WS9xfvgt0"
    },
    {
      "cell_type": "code",
      "execution_count": null,
      "id": "qRnbXeUwd2f6",
      "metadata": {
        "id": "qRnbXeUwd2f6"
      },
      "outputs": [],
      "source": [
        "!cut -f 4 fo_attributes.tsv | grep \"Australia\" | sort | uniq -c"
      ]
    },
    {
      "cell_type": "markdown",
      "id": "WBRliw6-m3zc",
      "metadata": {
        "id": "WBRliw6-m3zc"
      },
      "source": [
        "An alternative to simple Unix commands is to use a Python library called Pandas, which works very well with tables. Here is an excellent set of tutorials and notebooks: Pandas Tutorials. https://pandas.pydata.org/docs/getting_started/tutorials.html"
      ]
    },
    {
      "cell_type": "markdown",
      "id": "mb2QOov413uv",
      "metadata": {
        "id": "mb2QOov413uv"
      },
      "source": [
        "## Download Sequence Data Using Datasets\n",
        "\n",
        "So far, we have downloaded metadata. Now, let's work with genomic data. The following commands download available genome assemblies for various plant pathogens using different criteria. Let’s start with Fusarium."
      ]
    },
    {
      "cell_type": "code",
      "execution_count": null,
      "id": "JKF6dQwn2eI1",
      "metadata": {
        "collapsed": true,
        "id": "JKF6dQwn2eI1"
      },
      "outputs": [],
      "source": [
        "!datasets download genome taxon \"Fusarium oxysporum f. sp. lycopersici\" --assembly-source genbank"
      ]
    },
    {
      "cell_type": "markdown",
      "id": "v50M8kATUEvw",
      "metadata": {
        "id": "v50M8kATUEvw"
      },
      "source": [
        "The results will be saved in a zip file named ncbi_dataset.zip. These commands will unzip ncbi_dataset.zip and rename the output to fo_data"
      ]
    },
    {
      "cell_type": "code",
      "execution_count": null,
      "id": "mqHyO3I6hPHS",
      "metadata": {
        "id": "mqHyO3I6hPHS"
      },
      "outputs": [],
      "source": [
        "!unzip -o ncbi_dataset.zip\n",
        "!mv ncbi_dataset fo_data"
      ]
    },
    {
      "cell_type": "markdown",
      "id": "LGcJHtDShRO9",
      "metadata": {
        "id": "LGcJHtDShRO9"
      },
      "source": [
        "You can also include other genomic features to download. For example, you can include protein sequences."
      ]
    },
    {
      "cell_type": "code",
      "execution_count": null,
      "id": "Z5hpyi6tBmou",
      "metadata": {
        "id": "Z5hpyi6tBmou"
      },
      "outputs": [],
      "source": [
        "!datasets download genome taxon \"Fusarium oxysporum f. sp. lycopersici\" --assembly-source genbank  --include protein"
      ]
    },
    {
      "cell_type": "markdown",
      "id": "F8kCyD9DhZN8",
      "metadata": {
        "id": "F8kCyD9DhZN8"
      },
      "source": [
        "Now Unzip the file"
      ]
    },
    {
      "cell_type": "code",
      "execution_count": null,
      "id": "70E9TZxXUIPU",
      "metadata": {
        "id": "70E9TZxXUIPU"
      },
      "outputs": [],
      "source": [
        "!unzip -o ncbi_dataset.zip\n",
        "!mv ncbi_dataset fo_prot_data"
      ]
    },
    {
      "cell_type": "markdown",
      "id": "28RWdW5HUQNu",
      "metadata": {
        "id": "28RWdW5HUQNu"
      },
      "source": [
        "**Fetch a Specific Genome by Accession Number**\n",
        "\n",
        "If you know the accession number of a genome, you can fetch it directly using the following command:"
      ]
    },
    {
      "cell_type": "code",
      "execution_count": null,
      "id": "_FIK_95JUUlG",
      "metadata": {
        "id": "_FIK_95JUUlG"
      },
      "outputs": [],
      "source": [
        "!datasets download genome accession GCA_021237285.1\n",
        "!unzip -o ncbi_dataset.zip\n",
        "!mv ncbi_dataset GCA_021237285.1_data"
      ]
    },
    {
      "cell_type": "markdown",
      "id": "ux9ERdIdUlSU",
      "metadata": {
        "id": "ux9ERdIdUlSU"
      },
      "source": [
        "**Fetch Pathogen Genomes by Assembly Level**\n",
        "\n",
        "You can also filter genomes by assembly level (e.g., complete genome, scaffold level, contig level). For example, Lets work with a The tomato bacterial pathogen Clavibacter michiganensis.  only fetch complete genome sequences of Clavibacter michiganensis:"
      ]
    },
    {
      "cell_type": "code",
      "execution_count": null,
      "id": "klbQDuX_UnZb",
      "metadata": {
        "id": "klbQDuX_UnZb"
      },
      "outputs": [],
      "source": [
        "!datasets download genome taxon \"Clavibacter michiganensis\" --assembly-level complete --assembly-source genbank\n",
        "!unzip -o ncbi_dataset.zip\n",
        "!mv ncbi_dataset clavibacter_data"
      ]
    },
    {
      "cell_type": "markdown",
      "id": "PKvnZ1CIVugZ",
      "metadata": {
        "id": "PKvnZ1CIVugZ"
      },
      "source": [
        "**Fetch Pathogen Genomes by Species and Filter for Contig Level**\n",
        "\n",
        "If you’re interested in contig-level assemblies rather than complete genomes (for cases where complete genomes are unavailable), you can adjust the command as follows:\n",
        "\n",
        "Example: Download contig-level assemblies of Erwinia amylovora (fire blight pathogen):"
      ]
    },
    {
      "cell_type": "code",
      "execution_count": null,
      "id": "5k6moAnXVyDr",
      "metadata": {
        "id": "5k6moAnXVyDr"
      },
      "outputs": [],
      "source": [
        "!datasets download genome taxon \"Erwinia amylovora\" --assembly-level contig --assembly-source genbank --filename erwinia_amylovora_contig_genomes.zip\n",
        "!unzip -o ncbi_dataset.zip\n",
        "!mv ncbi_dataset erwinia_data"
      ]
    }
  ],
  "metadata": {
    "colab": {
      "provenance": []
    },
    "kernelspec": {
      "display_name": "Python 3",
      "name": "python3"
    },
    "language_info": {
      "name": "python"
    }
  },
  "nbformat": 4,
  "nbformat_minor": 5
}