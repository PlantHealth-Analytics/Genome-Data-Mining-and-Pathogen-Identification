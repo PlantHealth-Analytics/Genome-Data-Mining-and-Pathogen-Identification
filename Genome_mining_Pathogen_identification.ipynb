{
  "cells": [
    {
      "cell_type": "markdown",
      "source": [
        "#Genome Mining and Pathogen Identification\n",
        "\n",
        "This notebook guides students through the process of retrieving metagenomic sequencing reads from the NCBI Sequence Read Archive (SRA), processing those reads, and identifying plant pathogens, specifically begomoviruses, using tools like Kraken2 and Pavian."
      ],
      "metadata": {
        "id": "57X_DWEVeMD2"
      }
    },
    {
      "cell_type": "markdown",
      "source": [
        "#Install dependencies and tools"
      ],
      "metadata": {
        "id": "fJFd42KAI05h"
      }
    },
    {
      "cell_type": "markdown",
      "source": [
        "**Install miniconda**"
      ],
      "metadata": {
        "id": "F0RENNdYXmsf"
      }
    },
    {
      "cell_type": "code",
      "execution_count": null,
      "metadata": {
        "id": "9pFbiFxUZcyw",
        "cellView": "form",
        "collapsed": true
      },
      "outputs": [],
      "source": [
        "# @title\n",
        "!wget https://repo.anaconda.com/miniconda/Miniconda3-latest-Linux-x86_64.sh\n",
        "!chmod +x Miniconda3-latest-Linux-x86_64.sh\n",
        "!bash ./Miniconda3-latest-Linux-x86_64.sh -b -f -p /usr/local\n",
        "import sys\n",
        "sys.path.append('/usr/local/lib/python3.7/site-packages/')\n",
        "!conda config --add channels defaults\n",
        "!conda config --add channels bioconda\n",
        "!conda config --add channels conda-forge"
      ]
    },
    {
      "cell_type": "markdown",
      "source": [
        "**Install Kraken2 and KrakenTools**"
      ],
      "metadata": {
        "id": "aiWdS0l0Xstq"
      }
    },
    {
      "cell_type": "code",
      "execution_count": null,
      "metadata": {
        "id": "cPd0j71jpqRD",
        "cellView": "form",
        "collapsed": true
      },
      "outputs": [],
      "source": [
        "# @title\n",
        "!conda install bioconda::kraken2 -y\n",
        "!conda install bioconda::krakentools -y"
      ]
    },
    {
      "cell_type": "markdown",
      "source": [
        "**Instal pysradb**"
      ],
      "metadata": {
        "id": "YstbUmdtXzi7"
      }
    },
    {
      "cell_type": "code",
      "execution_count": null,
      "metadata": {
        "id": "ouE53T41E-0b",
        "cellView": "form",
        "collapsed": true
      },
      "outputs": [],
      "source": [
        "# @title\n",
        "!pip install -U pysradb"
      ]
    },
    {
      "cell_type": "markdown",
      "source": [
        "#Search in the NCBI-SRA Database\n",
        "The NCBI Sequence Read Archive (SRA) is a vast public repository of high-throughput sequencing data, hosting raw reads from DNA, RNA, and metagenomic studies across a wide range of organisms. It allows researchers to access and analyze sequencing datasets, making it a valuable resource for pathogen discovery, genome analysis, and metagenomic research. For plant pathologists, SRA provides a powerful tool to explore environmental samples, identify plant pathogens, and study their prevalence in different settings.\n",
        "https://www.ncbi.nlm.nih.gov/sra"
      ],
      "metadata": {
        "id": "D1qBtXIoJCIY"
      }
    },
    {
      "cell_type": "markdown",
      "source": [
        "**Inspect and Generate Reports**"
      ],
      "metadata": {
        "id": "jek-kiqWJTrh"
      }
    },
    {
      "cell_type": "markdown",
      "source": [
        "Search and generate a report for studies that contain the title \"Cassava mosaic begomovirus\""
      ],
      "metadata": {
        "id": "I3pvzufsYjly"
      }
    },
    {
      "cell_type": "code",
      "execution_count": null,
      "metadata": {
        "id": "3RKXEa7SXGFI",
        "collapsed": true,
        "cellView": "form"
      },
      "outputs": [],
      "source": [
        "# @title\n",
        "!pysradb search --title \"Cassava mosaic begomovirus\""
      ]
    },
    {
      "cell_type": "markdown",
      "source": [
        "Search and generate a report for studies that contain any field related to \"begomovirus\""
      ],
      "metadata": {
        "id": "K9RqwnT-YymX"
      }
    },
    {
      "cell_type": "code",
      "execution_count": null,
      "metadata": {
        "id": "TTvnvBV5s1Pg",
        "collapsed": true,
        "cellView": "form"
      },
      "outputs": [],
      "source": [
        "# @title\n",
        "!pysradb search --query \"begomovirus\""
      ]
    },
    {
      "cell_type": "markdown",
      "source": [
        "Display fileds/collumn of the report"
      ],
      "metadata": {
        "id": "LyUjp6iiZG2d"
      }
    },
    {
      "cell_type": "code",
      "execution_count": null,
      "metadata": {
        "id": "s5K25OIRFLgj",
        "cellView": "form"
      },
      "outputs": [],
      "source": [
        "# @title\n",
        "!pysradb metadata SRP430024 | head -n 1 | awk -F'\\t' '{for (i=1; i<=NF; i++) print \"Column \" i \": \" $i}'"
      ]
    },
    {
      "cell_type": "markdown",
      "source": [
        "Display metadata of a specific Study (SRPXXXXXX). Generate a report for study SRP430024 in detail"
      ],
      "metadata": {
        "id": "EABoEjdwZx1m"
      }
    },
    {
      "cell_type": "code",
      "execution_count": null,
      "metadata": {
        "id": "q7-TmO72tsc8",
        "collapsed": true,
        "cellView": "form"
      },
      "outputs": [],
      "source": [
        "# @title\n",
        "!pysradb metadata SRP430024 --detailed"
      ]
    },
    {
      "cell_type": "markdown",
      "source": [
        "Generate a report for study SRP430024 with specific collunms/fields. . Fields 57 and 58 contains the links where the raw reads are deposited"
      ],
      "metadata": {
        "id": "wUjoGL_xJyS4"
      }
    },
    {
      "cell_type": "code",
      "execution_count": null,
      "metadata": {
        "id": "G1fzaczPuZFM",
        "collapsed": true,
        "cellView": "form"
      },
      "outputs": [],
      "source": [
        "# @title\n",
        "!pysradb metadata SRP430024 --detailed | cut -f 1,4,6,57,58"
      ]
    },
    {
      "cell_type": "markdown",
      "source": [
        "#Plant Pathogen Detection in SRA-Submitted Metagenomic Sample Data\n",
        "We will use Illumina sequencing data from a published study (SRP430024) to demonstrate how to classify reads and identify potential plant pathogens in metagenomic data. The following code will fetch sequencing reads from a metagenomic study that investigates soil samples from both greenhouse (SRR24008622) and field (SRR24008623) environments. This will serve as a practical example of how to analyze metagenomic data for pathogen detection. Fetch the raw data"
      ],
      "metadata": {
        "id": "kYhlwxYXKEJ8"
      }
    },
    {
      "cell_type": "code",
      "execution_count": null,
      "metadata": {
        "id": "JcWKnBx-IhcQ",
        "collapsed": true,
        "cellView": "form"
      },
      "outputs": [],
      "source": [
        "# @title\n",
        "##greenhouse sample\n",
        "!wget http://ftp.sra.ebi.ac.uk/vol1/fastq/SRR240/022/SRR24008622/SRR24008622_1.fastq.gz\thttp://ftp.sra.ebi.ac.uk/vol1/fastq/SRR240/022/SRR24008622/SRR24008622_2.fastq.gz\n",
        "##field sample\n",
        "!wget http://ftp.sra.ebi.ac.uk/vol1/fastq/SRR240/023/SRR24008623/SRR24008623_1.fastq.gz\thttp://ftp.sra.ebi.ac.uk/vol1/fastq/SRR240/023/SRR24008623/SRR24008623_2.fastq.gz"
      ]
    },
    {
      "cell_type": "markdown",
      "source": [
        "Now, let’s focus on detecting Begomoviruses. In this specific case, we will use Kraken2 to classify the reads against a custom-built database of Begomoviruses. We need a Kraken2 database that contains all reported Begomoviruses from the NCBI database. The code below will help you fetch the required database for this classification."
      ],
      "metadata": {
        "id": "lrwrZ36qKgU7"
      }
    },
    {
      "cell_type": "code",
      "execution_count": null,
      "metadata": {
        "id": "d5CzXzguQLQ7",
        "cellView": "form"
      },
      "outputs": [],
      "source": [
        "!wget https://zenodo.org/record/13966270/files/begomavirus_kraken2_102124.tar.gz\n",
        "# @title\n",
        "!tar -xvf begomavirus_kraken2_102124.tar.gz\n",
        "!rm begomavirus_kraken2_102124.tar.gz"
      ]
    },
    {
      "cell_type": "markdown",
      "source": [
        "**Run Kraken2** to classify the reads for each sample/experiment. The commands below will search for hits in the Begomovirus database for both greenhouse and field samples. These commands will generate reports of the taxonomic classification for each sample, stored in report_x:"
      ],
      "metadata": {
        "id": "uf4Mzcn3K5Hc"
      }
    },
    {
      "cell_type": "code",
      "execution_count": null,
      "metadata": {
        "id": "YCEelJiXrmYw",
        "collapsed": true,
        "cellView": "form"
      },
      "outputs": [],
      "source": [
        "# @title\n",
        "!kraken2 --db ./bego --use-names --report report_greenhouse.txt --output greenhouse SRR24008622_1.fastq.gz SRR24008622_2.fastq.gz\n",
        "!kraken2 --db ./bego --use-names --report report_field.txt --output field SRR24008623_1.fastq.gz  SRR24008623_2.fastq.gz"
      ]
    },
    {
      "cell_type": "markdown",
      "source": [
        "**Run Pavian**"
      ],
      "metadata": {
        "id": "Gc0w8hxVaKLz"
      }
    },
    {
      "cell_type": "markdown",
      "source": [
        "Download the Kraken reports to your computer and use Pavian to visualize the results. We will review the classification of the reads. Analyze the results using Sankey plots for a comprehensive overview, and compare the samples by the percentage of classified reads, taxonomic IDs (taxids), and Z-scores.\n",
        "\n",
        "**Z-Scores**\n",
        "In metagenomics, Z-scores are a useful statistical tool for comparing the abundance of specific microbes or viruses across different environments or conditions.\n",
        "\n",
        "A Z-score tells us how far a particular value is from the average, measured in standard deviations. It helps you understand if a data point (like the abundance of a virus) is higher or lower than the average, and by how much.\n",
        "\n",
        "**The formula for a Z-score is:**\n",
        "\n",
        "𝑍\n",
        "=\n",
        "(\n",
        "𝑋\n",
        "−\n",
        "𝜇\n",
        ")\n",
        "𝜎\n",
        "Z=\n",
        "σ\n",
        "(X−μ)\n",
        "​\n",
        "\n",
        "**Where:**\n",
        "\n",
        "X is the value you are measuring (e.g., abundance of a virus in a sample).\n",
        "μ is the mean (average) value of that measurement across different samples (e.g., average abundance of the virus across greenhouse and field samples).\n",
        "σ is the standard deviation, which measures how spread out the values are from the mean.\n",
        "\n",
        "**Interpretation:**\n",
        "Positive Z-score: Indicates that the virus is more abundant than the average.\n",
        "Negative Z-score: Indicates that the virus is less abundant than the average.\n",
        "Z = 0: The abundance is exactly at the average."
      ],
      "metadata": {
        "id": "0XPGe4bvLAhv"
      }
    },
    {
      "cell_type": "markdown",
      "source": [
        "Download your reports"
      ],
      "metadata": {
        "id": "PbYhgmXLKjQv"
      }
    },
    {
      "cell_type": "code",
      "source": [
        "# @title\n",
        "from google.colab import files\n",
        "files.download('report_field.txt')\n",
        "files.download('report_greenhouse.txt')"
      ],
      "metadata": {
        "cellView": "form",
        "id": "iOcJ0VsxKWRe"
      },
      "execution_count": null,
      "outputs": []
    },
    {
      "cell_type": "markdown",
      "source": [
        "Run Pavian"
      ],
      "metadata": {
        "id": "EPPyQ5NXKeGy"
      }
    },
    {
      "cell_type": "code",
      "execution_count": null,
      "metadata": {
        "id": "dzHVwSpCq5Zd",
        "cellView": "form",
        "collapsed": true
      },
      "outputs": [],
      "source": [
        "# @title\n",
        "#Visualizing Sample using Pavian\n",
        "from IPython.display import IFrame\n",
        "IFrame('https://fbreitwieser.shinyapps.io/pavian/', width='100%', height=600)"
      ]
    },
    {
      "cell_type": "markdown",
      "source": [
        "**Extract reads that are clasify to begomovirus for post assembly**\n",
        "\n",
        "After identifying the Begomoviruses, the next step is to extract the relevant reads from the original metagenomic data. These reads will be used to assemble the viral genomes. Download the FASTQ files for use in further analysis. Example: Genome Assembly\n",
        "\n"
      ],
      "metadata": {
        "id": "gNz1hLtLOkRW"
      }
    },
    {
      "cell_type": "code",
      "execution_count": null,
      "metadata": {
        "id": "qfoGCpGea3Di",
        "collapsed": true,
        "cellView": "form"
      },
      "outputs": [],
      "source": [
        "# @title\n",
        "!extract_kraken_reads.py -t 10814 -k greenhouse --include-children -s SRR24008622_1.fastq.gz -s2 SRR24008622_2.fastq.gz -t 10814 -r report_greenhouse.txt --fastq-output -o greenhouse_1.fastq -o2 greenhouse_2.fastq\n",
        "!extract_kraken_reads.py -t 10814 -k field --include-children -s SRR24008623_1.fastq.gz -s2 SRR24008623_2.fastq.gz -t 10814 -r report_field.txt --fastq-output -o field_1.fastq -o2 field_2.fastq"
      ]
    }
  ],
  "metadata": {
    "colab": {
      "provenance": []
    },
    "kernelspec": {
      "display_name": "Python 3",
      "name": "python3"
    }
  },
  "nbformat": 4,
  "nbformat_minor": 0
}